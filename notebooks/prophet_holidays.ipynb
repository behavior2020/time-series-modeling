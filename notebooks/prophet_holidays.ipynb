{
 "cells": [
  {
   "cell_type": "markdown",
   "metadata": {},
   "source": [
    "# Forecasting Holiday Effects With Prophet"
   ]
  },
  {
   "cell_type": "code",
   "execution_count": null,
   "metadata": {},
   "outputs": [],
   "source": [
    "import pandas as pd\n",
    "from workalendar.asia import Israel\n",
    "from sklearn.metrics import mean_squared_error, mean_absolute_percentage_error\n",
    "from darts_config import *\n",
    "from darts_functions import count_zeroes, get_relevent_columns, preprocess_data, calc_nMAPE_series\n",
    "from prophet.plot import plot_plotly, plot_components_plotly\n",
    "from prophet import Prophet\n",
    "import plotly.offline as py\n",
    "import warnings\n",
    "\n",
    "warnings.filterwarnings(\"ignore\")\n",
    "warnings.simplefilter(\"ignore\", category=FutureWarning)"
   ]
  },
  {
   "cell_type": "markdown",
   "metadata": {},
   "source": [
    "## Load Dataset"
   ]
  },
  {
   "cell_type": "code",
   "execution_count": null,
   "metadata": {},
   "outputs": [],
   "source": [
    "# Load data\n",
    "file_path = file_name\n",
    "raw_df = pd.read_excel(file_path)\n",
    "\n",
    "# Get the index of the forecast date\n",
    "FORECAST_DATE = raw_df[\"Forecast Date\"][0]\n",
    "df_sliced = get_relevent_columns(data=raw_df, forecast_date=FORECAST_DATE)\n",
    "\n",
    "# Preprocess data frame\n",
    "df = preprocess_data(raw_data=raw_df, data_df=df_sliced, column_index=\"Item Code\")\n",
    "\n",
    "# Sanity check for date range and values\n",
    "print(f\"Actual sales dates range from {df.index[0]} to {df.index[-1]}\")\n",
    "print(f\"Number of Zeros: {count_zeroes(df)}\\nNumber of NaNs: {(df.isna().sum().sum())}\")\n",
    "print(f\"Data includes {df.shape[0]} months and {df.shape[1]} products\")"
   ]
  },
  {
   "cell_type": "markdown",
   "metadata": {},
   "source": [
    "## Manipulate Dataset for Prophet"
   ]
  },
  {
   "cell_type": "code",
   "execution_count": null,
   "metadata": {},
   "outputs": [],
   "source": [
    "df.reset_index(drop=False, inplace=True)\n",
    "df = df.rename_axis(None, axis=1)\n",
    "df = df.rename(columns={\"index\": \"ds\"})"
   ]
  },
  {
   "cell_type": "markdown",
   "metadata": {},
   "source": [
    "Find covariance"
   ]
  },
  {
   "cell_type": "code",
   "execution_count": null,
   "metadata": {},
   "outputs": [],
   "source": [
    "SKU_INDEX = 2  # index 4 has many outliers\n",
    "SKU_NAME = df.columns[SKU_INDEX + 1]\n",
    "SKU = df[[\"ds\", SKU_NAME]]\n",
    "SKU = SKU.rename(columns={SKU_NAME: \"y\"})\n",
    "SKU.head()"
   ]
  },
  {
   "cell_type": "markdown",
   "metadata": {},
   "source": [
    "## Default Prophet"
   ]
  },
  {
   "cell_type": "code",
   "execution_count": null,
   "metadata": {},
   "outputs": [],
   "source": [
    "std_dev = SKU[\"y\"].std()\n",
    "mean_val = SKU[\"y\"].mean()\n",
    "covariance = std_dev / mean_val\n",
    "print(f\"Covariance: {covariance:.2f}\")"
   ]
  },
  {
   "cell_type": "markdown",
   "metadata": {},
   "source": [
    "Fit model"
   ]
  },
  {
   "cell_type": "code",
   "execution_count": null,
   "metadata": {},
   "outputs": [],
   "source": [
    "m = Prophet(yearly_seasonality=20)\n",
    "m.fit(SKU)\n",
    "future = m.make_future_dataframe(periods=6, freq=\"MS\")\n",
    "forecast = m.predict(future)\n",
    "forecast[[\"ds\", \"yhat\", \"yhat_lower\", \"yhat_upper\"]].tail()"
   ]
  },
  {
   "cell_type": "markdown",
   "metadata": {},
   "source": [
    "Plot decomposition"
   ]
  },
  {
   "cell_type": "code",
   "execution_count": null,
   "metadata": {},
   "outputs": [],
   "source": [
    "plot_components_plotly(m, forecast)"
   ]
  },
  {
   "cell_type": "markdown",
   "metadata": {},
   "source": [
    "Plot forecast"
   ]
  },
  {
   "cell_type": "code",
   "execution_count": null,
   "metadata": {},
   "outputs": [],
   "source": [
    "plot_plotly(m, forecast)"
   ]
  },
  {
   "cell_type": "markdown",
   "metadata": {},
   "source": [
    "## Prophet Model with Adjustments"
   ]
  },
  {
   "cell_type": "markdown",
   "metadata": {},
   "source": [
    "Set holidays dataframe"
   ]
  },
  {
   "cell_type": "code",
   "execution_count": null,
   "metadata": {},
   "outputs": [],
   "source": [
    "cal = Israel()\n",
    "years = range(2019, 2026)\n",
    "\n",
    "all_holidays = pd.concat(\n",
    "    [pd.DataFrame(cal.holidays(year), columns=[\"ds\", \"holiday\"])[[\"holiday\", \"ds\"]] for year in years],\n",
    "    ignore_index=True,\n",
    ")\n",
    "\n",
    "all_holidays[\"ds\"] = pd.to_datetime(all_holidays[\"ds\"])\n",
    "\n",
    "# Adjust holidays to the start of the month\n",
    "all_holidays[\"ds\"] = all_holidays[\"ds\"].dt.to_period(\"M\").dt.to_timestamp()\n",
    "all_holidays = all_holidays.drop_duplicates(subset=[\"ds\"])\n",
    "\n",
    "\n",
    "all_holidays[\"lower_window\"] = -21\n",
    "all_holidays[\"upper_window\"] = 1\n",
    "\n",
    "# Santity check\n",
    "# YEAR = 2022\n",
    "# all_holidays[all_holidays[\"ds\"].dt.year == YEAR].head(20)\n",
    "\n",
    "all_holidays.head(50)"
   ]
  },
  {
   "cell_type": "markdown",
   "metadata": {},
   "source": [
    "Fit model"
   ]
  },
  {
   "cell_type": "code",
   "execution_count": null,
   "metadata": {},
   "outputs": [],
   "source": [
    "m2 = Prophet(yearly_seasonality=20, holidays=all_holidays)\n",
    "m2.fit(SKU)\n",
    "future = m2.make_future_dataframe(periods=8, freq=\"MS\")\n",
    "forecast = m2.predict(future)\n",
    "forecast[[\"ds\", \"yhat\", \"yhat_lower\", \"yhat_upper\"]].tail()"
   ]
  },
  {
   "cell_type": "markdown",
   "metadata": {},
   "source": [
    "Plot decomposition"
   ]
  },
  {
   "cell_type": "code",
   "execution_count": null,
   "metadata": {},
   "outputs": [],
   "source": [
    "plot_components_plotly(m2, forecast)"
   ]
  },
  {
   "cell_type": "markdown",
   "metadata": {},
   "source": [
    "Plot forecast"
   ]
  },
  {
   "cell_type": "code",
   "execution_count": null,
   "metadata": {},
   "outputs": [],
   "source": [
    "plot_plotly(m2, forecast)"
   ]
  },
  {
   "cell_type": "markdown",
   "metadata": {},
   "source": [
    "## Model Evaluation"
   ]
  },
  {
   "cell_type": "markdown",
   "metadata": {},
   "source": [
    "Try first with one SKU"
   ]
  },
  {
   "cell_type": "code",
   "execution_count": null,
   "metadata": {},
   "outputs": [],
   "source": [
    "PERIODS = 6\n",
    "train_set, val_set = SKU.iloc[:-PERIODS], SKU.iloc[-PERIODS:]\n",
    "print(f\"Test set includes {len(train_set)} months and Val Set includes {len(val_set)} months\")"
   ]
  },
  {
   "cell_type": "code",
   "execution_count": null,
   "metadata": {},
   "outputs": [],
   "source": [
    "model = Prophet(yearly_seasonality=20, holidays=all_holidays)\n",
    "model.fit(train_set)\n",
    "future = model.make_future_dataframe(periods=PERIODS, freq=\"MS\")\n",
    "forecast = model.predict(future)\n",
    "\n",
    "rmse_value = mean_squared_error(val_set[\"y\"], forecast[\"yhat\"][-PERIODS:])\n",
    "mape_value = mean_absolute_percentage_error(val_set[\"y\"], forecast[\"yhat\"][-PERIODS:])\n",
    "\n",
    "print(f\"RMSE value is {rmse_value:.2f}\")\n",
    "print(f\"MAPE value is {mape_value:.2f}\")"
   ]
  },
  {
   "cell_type": "markdown",
   "metadata": {},
   "source": [
    "Now let's loop the SKO's and evaluate each one"
   ]
  },
  {
   "cell_type": "code",
   "execution_count": null,
   "metadata": {},
   "outputs": [],
   "source": [
    "def evaluate_prophet(\n",
    "    df: pd.DataFrame,\n",
    "    num_values: int,\n",
    "    fourier: int,\n",
    "    plot: bool,\n",
    "    holidays: pd.DataFrame = None,\n",
    "    change_prior_scale: int = 0.05,\n",
    "    seasonal_prior_scale: int = 10.0,\n",
    ") -> tuple:\n",
    "    results = []\n",
    "    for index in range(1, num_values + 1):\n",
    "        SKU_NAME = df.columns[index]\n",
    "        SKU = df[[\"ds\", SKU_NAME]]\n",
    "        SKU = SKU.rename(columns={SKU_NAME: \"y\"})\n",
    "\n",
    "        # Calculate covariance\n",
    "        std_dev = SKU[\"y\"].std()\n",
    "        mean_val = SKU[\"y\"].mean()\n",
    "        covariance_value = std_dev / mean_val\n",
    "\n",
    "        # Train-Test split\n",
    "        train_set, val_set = SKU.iloc[:-PERIODS], SKU.iloc[-PERIODS:]\n",
    "        if index == 1:\n",
    "            print(f\"Train Set includes {len(train_set)} months and Validation Set includes {len(val_set)} months\")\n",
    "\n",
    "        # Fit and predict model\n",
    "        model = Prophet(\n",
    "            yearly_seasonality=fourier,\n",
    "            holidays=holidays,\n",
    "            changepoint_prior_scale=change_prior_scale,\n",
    "            seasonality_prior_scale=seasonal_prior_scale,\n",
    "        )\n",
    "        model.fit(SKU)\n",
    "        future = model.make_future_dataframe(periods=FORECAST_PERIODS, freq=\"MS\")\n",
    "        forecast = model.predict(future)\n",
    "        # print(f\"Santiy check: Months compared are {val_set['ds']} & {forecast['ds'][-(PERIODS + FORECAST_PERIODS): -PERIODS]}\")\n",
    "        # rmse_value = mean_squared_error(val_set[\"y\"], forecast[\"yhat\"][-PERIODS:])\n",
    "        # mape_value = mean_absolute_percentage_error(val_set[\"y\"], forecast[\"yhat\"][-PERIODS:])\n",
    "        nmape_value = calc_nMAPE_series(val_set[\"y\"], forecast[\"yhat\"][-(PERIODS + FORECAST_PERIODS) : -PERIODS])\n",
    "        result = f\"Name: {SKU_NAME}, Index: {index}, nMAPE: {nmape_value:.2f} COV: {covariance_value:.2f}\"\n",
    "        results.append(result)\n",
    "\n",
    "        print(\"SKU:\", SKU_NAME)\n",
    "        if plot == True:\n",
    "            fig = plot_plotly(model, forecast)\n",
    "            py.iplot(fig)\n",
    "\n",
    "    return results"
   ]
  },
  {
   "cell_type": "markdown",
   "metadata": {},
   "source": [
    "## Evaluate Model Metrics"
   ]
  },
  {
   "cell_type": "markdown",
   "metadata": {},
   "source": [
    "Optimal Model"
   ]
  },
  {
   "cell_type": "code",
   "execution_count": null,
   "metadata": {},
   "outputs": [],
   "source": [
    "results = evaluate_prophet(df=df, num_values=3, fourier=20, plot=False, holidays=all_holidays)\n",
    "for result in results:\n",
    "    print(result)"
   ]
  },
  {
   "cell_type": "markdown",
   "metadata": {},
   "source": [
    "Test without holidays\n",
    "\n",
    "Cannot have low fourier (like 10) with holidays"
   ]
  },
  {
   "cell_type": "code",
   "execution_count": null,
   "metadata": {},
   "outputs": [],
   "source": [
    "results = evaluate_prophet(df=df, num_values=3, fourier=20, plot=False, holidays=False)\n",
    "for result in results:\n",
    "    print(result)"
   ]
  },
  {
   "cell_type": "markdown",
   "metadata": {},
   "source": [
    "### Run on seasonal SKUs"
   ]
  },
  {
   "cell_type": "code",
   "execution_count": null,
   "metadata": {},
   "outputs": [],
   "source": [
    "code_1 = \"7288014\"\n",
    "code_2 = \"7288015\"\n",
    "code_3 = \"834500\"\n",
    "\n",
    "subset = df.loc[:, [\"ds\", code_1, code_2, code_3]]\n",
    "subset\n",
    "\n",
    "evaluate_prophet(subset, num_values=3, fourier=20, plot=True, holidays=all_holidays)"
   ]
  },
  {
   "cell_type": "markdown",
   "metadata": {},
   "source": [
    "More Testing"
   ]
  },
  {
   "cell_type": "code",
   "execution_count": null,
   "metadata": {},
   "outputs": [],
   "source": [
    "results = evaluate_prophet(\n",
    "    df=subset, num_values=3, fourier=20, plot=True, holidays=all_holidays, seasonal_prior_scale=1\n",
    ")\n",
    "for result in results:\n",
    "    print(result)"
   ]
  }
 ],
 "metadata": {
  "kernelspec": {
   "display_name": "dataplant-X6edI1F9-py3.10",
   "language": "python",
   "name": "python3"
  },
  "language_info": {
   "codemirror_mode": {
    "name": "ipython",
    "version": 3
   },
   "file_extension": ".py",
   "mimetype": "text/x-python",
   "name": "python",
   "nbconvert_exporter": "python",
   "pygments_lexer": "ipython3",
   "version": "3.10.7"
  }
 },
 "nbformat": 4,
 "nbformat_minor": 2
}
